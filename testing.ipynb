{
 "cells": [
  {
   "cell_type": "code",
   "execution_count": 1,
   "metadata": {},
   "outputs": [],
   "source": [
    "from functions import *"
   ]
  },
  {
   "cell_type": "code",
   "execution_count": 2,
   "metadata": {},
   "outputs": [],
   "source": [
    "url = generate_zillow_url('TX')"
   ]
  },
  {
   "cell_type": "code",
   "execution_count": 3,
   "metadata": {},
   "outputs": [
    {
     "name": "stdout",
     "output_type": "stream",
     "text": [
      "Scraping using ScrapeOps with slow scrolling\n",
      "Scraped 21 urls\n"
     ]
    },
    {
     "data": {
      "text/plain": [
       "['https://www.zillow.com/homedetails/4306-Marshall-St-Dallas-TX-75241/96505049_zpid/',\n",
       " 'https://www.zillow.com/homedetails/5420-Railroad-Ave-Dallas-TX-75210/342710826_zpid/',\n",
       " 'https://www.zillow.com/homedetails/5019-Hohen-Ave-Dallas-TX-75215/2060971747_zpid/',\n",
       " 'https://www.zillow.com/homedetails/3915-Malcolm-X-Blvd-Dallas-TX-75215/26686743_zpid/',\n",
       " 'https://www.zillow.com/homedetails/3129-Vannerson-Dr-Dallas-TX-75215/26726136_zpid/',\n",
       " 'https://www.zillow.com/homedetails/3514-Linfield-Rd-Dallas-TX-75216/96531396_zpid/',\n",
       " 'https://www.zillow.com/homedetails/1815-Kingsley-Dr-Dallas-TX-75216/96514266_zpid/',\n",
       " 'https://www.zillow.com/homedetails/2207-Fordham-Rd-Dallas-TX-75216/26767155_zpid/',\n",
       " 'https://www.zillow.com/homedetails/1611-Dean-St-Dallas-TX-75203/96504148_zpid/',\n",
       " 'https://www.zillow.com/homedetails/2733-Hudspeth-Ave-Dallas-TX-75216/96507854_zpid/',\n",
       " 'https://www.zillow.com/homedetails/699-W-Broad-St-Mansfield-TX-76063/97700954_zpid/',\n",
       " 'https://www.zillow.com/homedetails/LOT-10-County-Road-590-Nevada-TX-75173/441949395_zpid/',\n",
       " 'https://www.zillow.com/homedetails/1509-Twin-Lakes-Blvd-Rockwall-TX-75032/440515148_zpid/',\n",
       " 'https://www.zillow.com/homedetails/1512-Salt-Lake-Dr-Rockwall-TX-75032/440515154_zpid/',\n",
       " 'https://www.zillow.com/homedetails/902-S-Waverly-Dr-Dallas-TX-75208/96490589_zpid/',\n",
       " 'https://www.zillow.com/homedetails/1609-Canyon-Lake-Rd-Rockwall-TX-75032/440515140_zpid/',\n",
       " 'https://www.zillow.com/homedetails/0-Harlan-Ln-Seagoville-TX-75159/441149283_zpid/',\n",
       " 'https://www.zillow.com/homedetails/LOT-6-County-Road-590-Nevada-TX-75173/441949392_zpid/',\n",
       " 'https://www.zillow.com/homedetails/LOT-7-County-Road-590-Nevada-TX-75173/441949393_zpid/',\n",
       " 'https://www.zillow.com/homedetails/4001-Esters-Rd-Irving-TX-75038/441687980_zpid/',\n",
       " 'https://www.zillow.com/homedetails/257-Lakeside-Dr-Rockwall-TX-75032/111669458_zpid/']"
      ]
     },
     "execution_count": 3,
     "metadata": {},
     "output_type": "execute_result"
    }
   ],
   "source": [
    "get_urls(url, api_key='11d804f0-c0ae-461b-83f4-9f3e7c023b1b')"
   ]
  }
 ],
 "metadata": {
  "kernelspec": {
   "display_name": "Python 3",
   "language": "python",
   "name": "python3"
  },
  "language_info": {
   "codemirror_mode": {
    "name": "ipython",
    "version": 3
   },
   "file_extension": ".py",
   "mimetype": "text/x-python",
   "name": "python",
   "nbconvert_exporter": "python",
   "pygments_lexer": "ipython3",
   "version": "3.11.2"
  }
 },
 "nbformat": 4,
 "nbformat_minor": 2
}
